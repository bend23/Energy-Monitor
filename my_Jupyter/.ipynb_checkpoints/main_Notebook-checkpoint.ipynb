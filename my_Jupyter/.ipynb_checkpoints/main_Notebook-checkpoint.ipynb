{
 "cells": [
  {
   "cell_type": "code",
   "execution_count": 1,
   "id": "96a8c392-913a-45a4-8f17-c0362a21a869",
   "metadata": {},
   "outputs": [],
   "source": [
    "import pandas as pd\n",
    "from influxdb import DataFrameClient "
   ]
  },
  {
   "cell_type": "code",
   "execution_count": 2,
   "id": "b2c30266-5e95-4596-917b-1d7336af0d86",
   "metadata": {},
   "outputs": [
    {
     "name": "stdout",
     "output_type": "stream",
     "text": [
      "\u001b[33mWARNING: The directory '/home/jovyan/.cache/pip' or its parent directory is not owned or is not writable by the current user. The cache has been disabled. Check the permissions and owner of that directory. If executing pip with sudo, you should use sudo's -H flag.\u001b[0m\u001b[33m\n",
      "\u001b[0mCollecting openpyxl\n",
      "  Downloading openpyxl-3.1.2-py2.py3-none-any.whl (249 kB)\n",
      "\u001b[2K     \u001b[90m━━━━━━━━━━━━━━━━━━━━━━━━━━━━━━━━━━━━━━━\u001b[0m \u001b[32m250.0/250.0 kB\u001b[0m \u001b[31m2.2 MB/s\u001b[0m eta \u001b[36m0:00:00\u001b[0ma \u001b[36m0:00:01\u001b[0m\n",
      "\u001b[?25hCollecting et-xmlfile (from openpyxl)\n",
      "  Downloading et_xmlfile-1.1.0-py3-none-any.whl (4.7 kB)\n",
      "Installing collected packages: et-xmlfile, openpyxl\n",
      "Successfully installed et-xmlfile-1.1.0 openpyxl-3.1.2\n",
      "\u001b[33mWARNING: Running pip as the 'root' user can result in broken permissions and conflicting behaviour with the system package manager. It is recommended to use a virtual environment instead: https://pip.pypa.io/warnings/venv\u001b[0m\u001b[33m\n",
      "\u001b[0m"
     ]
    }
   ],
   "source": [
    "!pip install openpyxl"
   ]
  },
  {
   "cell_type": "code",
   "execution_count": 3,
   "id": "13e8914d-745a-47d9-8848-88f7ec161121",
   "metadata": {},
   "outputs": [],
   "source": [
    "user='root'\n",
    "password='root'\n",
    "host='influxdb'\n",
    "port=8086\n",
    "dbname='energy_data'\n",
    "protocol='line'\n",
    "client=DataFrameClient(host, port, user, password, dbname)"
   ]
  },
  {
   "cell_type": "code",
   "execution_count": 4,
   "id": "268bbc4e-ea55-4ad0-bf9a-62a4d66904f9",
   "metadata": {},
   "outputs": [],
   "source": [
    "client.create_database(dbname)"
   ]
  },
  {
   "cell_type": "code",
   "execution_count": 5,
   "id": "2197a0e8-8e90-470e-ac72-799b75213953",
   "metadata": {},
   "outputs": [
    {
     "data": {
      "text/plain": [
       "[{'name': '_internal'}, {'name': 'energy_data'}]"
      ]
     },
     "execution_count": 5,
     "metadata": {},
     "output_type": "execute_result"
    }
   ],
   "source": [
    "client.get_list_database()"
   ]
  },
  {
   "cell_type": "code",
   "execution_count": 6,
   "id": "4867af34-63d7-49fb-aea3-63625c30b57d",
   "metadata": {},
   "outputs": [],
   "source": [
    "client.drop_database('consup_data')"
   ]
  },
  {
   "cell_type": "code",
   "execution_count": 7,
   "id": "fa458e6c-4b06-47be-863c-1936966f936a",
   "metadata": {},
   "outputs": [
    {
     "data": {
      "text/plain": [
       "[{'name': '_internal'}, {'name': 'energy_data'}]"
      ]
     },
     "execution_count": 7,
     "metadata": {},
     "output_type": "execute_result"
    }
   ],
   "source": [
    "client.get_list_database()"
   ]
  },
  {
   "cell_type": "code",
   "execution_count": 21,
   "id": "aa316973-2ccb-45ac-ba92-009f143c7bb9",
   "metadata": {},
   "outputs": [],
   "source": [
    "df=pd.read_excel('energy_Dataset.xlsx')"
   ]
  },
  {
   "cell_type": "code",
   "execution_count": 22,
   "id": "b4b59ed6-c976-4d54-9f60-f0240165f5d7",
   "metadata": {},
   "outputs": [
    {
     "data": {
      "text/html": [
       "<div>\n",
       "<style scoped>\n",
       "    .dataframe tbody tr th:only-of-type {\n",
       "        vertical-align: middle;\n",
       "    }\n",
       "\n",
       "    .dataframe tbody tr th {\n",
       "        vertical-align: top;\n",
       "    }\n",
       "\n",
       "    .dataframe thead th {\n",
       "        text-align: right;\n",
       "    }\n",
       "</style>\n",
       "<table border=\"1\" class=\"dataframe\">\n",
       "  <thead>\n",
       "    <tr style=\"text-align: right;\">\n",
       "      <th></th>\n",
       "      <th>Data</th>\n",
       "      <th>Consum</th>\n",
       "      <th>Productie</th>\n",
       "      <th>Nuclear</th>\n",
       "      <th>Eolian</th>\n",
       "      <th>Hidro</th>\n",
       "      <th>Hidrocarburi</th>\n",
       "      <th>Carbune</th>\n",
       "      <th>Fotovolt</th>\n",
       "      <th>Biomasa</th>\n",
       "      <th>Sold</th>\n",
       "    </tr>\n",
       "  </thead>\n",
       "  <tbody>\n",
       "    <tr>\n",
       "      <th>0</th>\n",
       "      <td>2023-07-26 11:59:42</td>\n",
       "      <td>7165</td>\n",
       "      <td>7064</td>\n",
       "      <td>1346</td>\n",
       "      <td>1117</td>\n",
       "      <td>1845</td>\n",
       "      <td>1164</td>\n",
       "      <td>941</td>\n",
       "      <td>628</td>\n",
       "      <td>23</td>\n",
       "      <td>102</td>\n",
       "    </tr>\n",
       "    <tr>\n",
       "      <th>1</th>\n",
       "      <td>2023-07-26 11:56:45</td>\n",
       "      <td>7162</td>\n",
       "      <td>6964</td>\n",
       "      <td>1343</td>\n",
       "      <td>1125</td>\n",
       "      <td>1748</td>\n",
       "      <td>1149</td>\n",
       "      <td>941</td>\n",
       "      <td>634</td>\n",
       "      <td>23</td>\n",
       "      <td>198</td>\n",
       "    </tr>\n",
       "    <tr>\n",
       "      <th>2</th>\n",
       "      <td>2023-07-26 11:48:17</td>\n",
       "      <td>7157</td>\n",
       "      <td>7006</td>\n",
       "      <td>1344</td>\n",
       "      <td>1145</td>\n",
       "      <td>1774</td>\n",
       "      <td>1149</td>\n",
       "      <td>937</td>\n",
       "      <td>633</td>\n",
       "      <td>22</td>\n",
       "      <td>151</td>\n",
       "    </tr>\n",
       "    <tr>\n",
       "      <th>3</th>\n",
       "      <td>2023-07-26 11:39:17</td>\n",
       "      <td>7186</td>\n",
       "      <td>7033</td>\n",
       "      <td>1348</td>\n",
       "      <td>1191</td>\n",
       "      <td>1767</td>\n",
       "      <td>1150</td>\n",
       "      <td>944</td>\n",
       "      <td>610</td>\n",
       "      <td>23</td>\n",
       "      <td>153</td>\n",
       "    </tr>\n",
       "    <tr>\n",
       "      <th>4</th>\n",
       "      <td>2023-07-26 11:31:17</td>\n",
       "      <td>7144</td>\n",
       "      <td>7026</td>\n",
       "      <td>1344</td>\n",
       "      <td>1203</td>\n",
       "      <td>1746</td>\n",
       "      <td>1147</td>\n",
       "      <td>943</td>\n",
       "      <td>621</td>\n",
       "      <td>23</td>\n",
       "      <td>118</td>\n",
       "    </tr>\n",
       "    <tr>\n",
       "      <th>...</th>\n",
       "      <td>...</td>\n",
       "      <td>...</td>\n",
       "      <td>...</td>\n",
       "      <td>...</td>\n",
       "      <td>...</td>\n",
       "      <td>...</td>\n",
       "      <td>...</td>\n",
       "      <td>...</td>\n",
       "      <td>...</td>\n",
       "      <td>...</td>\n",
       "      <td>...</td>\n",
       "    </tr>\n",
       "    <tr>\n",
       "      <th>463</th>\n",
       "      <td>2023-07-24 00:39:17</td>\n",
       "      <td>5235</td>\n",
       "      <td>5202</td>\n",
       "      <td>1348</td>\n",
       "      <td>131</td>\n",
       "      <td>1528</td>\n",
       "      <td>1259</td>\n",
       "      <td>905</td>\n",
       "      <td>0</td>\n",
       "      <td>32</td>\n",
       "      <td>32</td>\n",
       "    </tr>\n",
       "    <tr>\n",
       "      <th>464</th>\n",
       "      <td>2023-07-24 00:30:17</td>\n",
       "      <td>5178</td>\n",
       "      <td>5193</td>\n",
       "      <td>1358</td>\n",
       "      <td>131</td>\n",
       "      <td>1507</td>\n",
       "      <td>1257</td>\n",
       "      <td>909</td>\n",
       "      <td>-1</td>\n",
       "      <td>31</td>\n",
       "      <td>-14</td>\n",
       "    </tr>\n",
       "    <tr>\n",
       "      <th>465</th>\n",
       "      <td>2023-07-24 00:25:17</td>\n",
       "      <td>5252</td>\n",
       "      <td>5238</td>\n",
       "      <td>1351</td>\n",
       "      <td>130</td>\n",
       "      <td>1558</td>\n",
       "      <td>1255</td>\n",
       "      <td>910</td>\n",
       "      <td>-1</td>\n",
       "      <td>33</td>\n",
       "      <td>14</td>\n",
       "    </tr>\n",
       "    <tr>\n",
       "      <th>466</th>\n",
       "      <td>2023-07-24 00:16:26</td>\n",
       "      <td>5232</td>\n",
       "      <td>5263</td>\n",
       "      <td>1349</td>\n",
       "      <td>134</td>\n",
       "      <td>1569</td>\n",
       "      <td>1262</td>\n",
       "      <td>917</td>\n",
       "      <td>-1</td>\n",
       "      <td>32</td>\n",
       "      <td>-31</td>\n",
       "    </tr>\n",
       "    <tr>\n",
       "      <th>467</th>\n",
       "      <td>2023-07-24 00:07:35</td>\n",
       "      <td>5309</td>\n",
       "      <td>5281</td>\n",
       "      <td>1349</td>\n",
       "      <td>120</td>\n",
       "      <td>1596</td>\n",
       "      <td>1266</td>\n",
       "      <td>913</td>\n",
       "      <td>0</td>\n",
       "      <td>32</td>\n",
       "      <td>28</td>\n",
       "    </tr>\n",
       "  </tbody>\n",
       "</table>\n",
       "<p>468 rows × 11 columns</p>\n",
       "</div>"
      ],
      "text/plain": [
       "                   Data  Consum  Productie  Nuclear  Eolian  Hidro  \\\n",
       "0   2023-07-26 11:59:42    7165       7064     1346    1117   1845   \n",
       "1   2023-07-26 11:56:45    7162       6964     1343    1125   1748   \n",
       "2   2023-07-26 11:48:17    7157       7006     1344    1145   1774   \n",
       "3   2023-07-26 11:39:17    7186       7033     1348    1191   1767   \n",
       "4   2023-07-26 11:31:17    7144       7026     1344    1203   1746   \n",
       "..                  ...     ...        ...      ...     ...    ...   \n",
       "463 2023-07-24 00:39:17    5235       5202     1348     131   1528   \n",
       "464 2023-07-24 00:30:17    5178       5193     1358     131   1507   \n",
       "465 2023-07-24 00:25:17    5252       5238     1351     130   1558   \n",
       "466 2023-07-24 00:16:26    5232       5263     1349     134   1569   \n",
       "467 2023-07-24 00:07:35    5309       5281     1349     120   1596   \n",
       "\n",
       "     Hidrocarburi  Carbune  Fotovolt  Biomasa  Sold  \n",
       "0            1164      941       628       23   102  \n",
       "1            1149      941       634       23   198  \n",
       "2            1149      937       633       22   151  \n",
       "3            1150      944       610       23   153  \n",
       "4            1147      943       621       23   118  \n",
       "..            ...      ...       ...      ...   ...  \n",
       "463          1259      905         0       32    32  \n",
       "464          1257      909        -1       31   -14  \n",
       "465          1255      910        -1       33    14  \n",
       "466          1262      917        -1       32   -31  \n",
       "467          1266      913         0       32    28  \n",
       "\n",
       "[468 rows x 11 columns]"
      ]
     },
     "execution_count": 22,
     "metadata": {},
     "output_type": "execute_result"
    }
   ],
   "source": [
    "df"
   ]
  },
  {
   "cell_type": "code",
   "execution_count": 23,
   "id": "0df0e2f8-d01c-4457-832f-62f56d8dac98",
   "metadata": {},
   "outputs": [
    {
     "data": {
      "text/plain": [
       "Index(['Data', 'Consum', 'Productie', 'Nuclear', 'Eolian', 'Hidro',\n",
       "       'Hidrocarburi', 'Carbune', 'Fotovolt', 'Biomasa', 'Sold'],\n",
       "      dtype='object')"
      ]
     },
     "execution_count": 23,
     "metadata": {},
     "output_type": "execute_result"
    }
   ],
   "source": [
    "df.columns"
   ]
  },
  {
   "cell_type": "code",
   "execution_count": 14,
   "id": "78751873-a305-4a78-90a8-d9b453cd5082",
   "metadata": {},
   "outputs": [],
   "source": [
    "field_columns=['Consum','Productie','Nuclear','Eolian',\n",
    "       'Hidro','Hidrocarburi','Carbune','Fotovolt',\n",
    "       'Biomasa','Sold']"
   ]
  },
  {
   "cell_type": "code",
   "execution_count": 15,
   "id": "c688d5d7-f1d9-4fbd-83ef-b1713d2a143a",
   "metadata": {},
   "outputs": [],
   "source": [
    " tag_columns=['Data']"
   ]
  },
  {
   "cell_type": "code",
   "execution_count": 16,
   "id": "cdbb0f7a-f4c6-42ba-9c35-77e21d71ac56",
   "metadata": {},
   "outputs": [],
   "source": [
    "df2=df[tag_columns+field_columns]"
   ]
  },
  {
   "cell_type": "code",
   "execution_count": 17,
   "id": "b6f134ab-1de1-4412-b052-5102e23518b6",
   "metadata": {},
   "outputs": [],
   "source": [
    "df2.index=pd.to_datetime(df['Data'].astype(str))"
   ]
  },
  {
   "cell_type": "code",
   "execution_count": 18,
   "id": "6af2b88b-7fa1-4fd2-9a33-de5e8093ec70",
   "metadata": {},
   "outputs": [],
   "source": [
    "#df2['Data'] = pd.to_datetime(df['Data'], unit='s')"
   ]
  },
  {
   "cell_type": "code",
   "execution_count": 19,
   "id": "181d1f0e-96bd-44b2-9aa1-8d4cd5be23c1",
   "metadata": {},
   "outputs": [],
   "source": [
    "data_points=df2.to_dict('records')"
   ]
  },
  {
   "cell_type": "code",
   "execution_count": 24,
   "id": "ff2b8358-f91c-4934-bee2-09f3c2c77cc7",
   "metadata": {},
   "outputs": [
    {
     "data": {
      "text/plain": [
       "True"
      ]
     },
     "execution_count": 24,
     "metadata": {},
     "output_type": "execute_result"
    }
   ],
   "source": [
    "client.write_points(df2, 'records', protocol=protocol,\n",
    "                        field_columns=field_columns,\n",
    "                        tag_columns=tag_columns)"
   ]
  },
  {
   "cell_type": "code",
   "execution_count": null,
   "id": "b185d241-95dc-45c3-b1c9-3560af420695",
   "metadata": {},
   "outputs": [],
   "source": []
  }
 ],
 "metadata": {
  "kernelspec": {
   "display_name": "Python 3 (ipykernel)",
   "language": "python",
   "name": "python3"
  },
  "language_info": {
   "codemirror_mode": {
    "name": "ipython",
    "version": 3
   },
   "file_extension": ".py",
   "mimetype": "text/x-python",
   "name": "python",
   "nbconvert_exporter": "python",
   "pygments_lexer": "ipython3",
   "version": "3.11.3"
  }
 },
 "nbformat": 4,
 "nbformat_minor": 5
}
