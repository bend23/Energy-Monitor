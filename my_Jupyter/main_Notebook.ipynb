{
 "cells": [
  {
   "cell_type": "code",
   "execution_count": 1,
   "id": "96a8c392-913a-45a4-8f17-c0362a21a869",
   "metadata": {},
   "outputs": [],
   "source": [
    "import pandas as pd\n",
    "from influxdb import DataFrameClient "
   ]
  },
  {
   "cell_type": "code",
   "execution_count": 2,
   "id": "b2c30266-5e95-4596-917b-1d7336af0d86",
   "metadata": {},
   "outputs": [
    {
     "name": "stdout",
     "output_type": "stream",
     "text": [
      "\u001b[33mWARNING: The directory '/home/jovyan/.cache/pip' or its parent directory is not owned or is not writable by the current user. The cache has been disabled. Check the permissions and owner of that directory. If executing pip with sudo, you should use sudo's -H flag.\u001b[0m\u001b[33m\n",
      "\u001b[0mCollecting openpyxl\n",
      "  Downloading openpyxl-3.1.2-py2.py3-none-any.whl (249 kB)\n",
      "\u001b[2K     \u001b[90m━━━━━━━━━━━━━━━━━━━━━━━━━━━━━━━━━━━━━━━\u001b[0m \u001b[32m250.0/250.0 kB\u001b[0m \u001b[31m2.7 MB/s\u001b[0m eta \u001b[36m0:00:00\u001b[0ma \u001b[36m0:00:01\u001b[0m\n",
      "\u001b[?25hCollecting et-xmlfile (from openpyxl)\n",
      "  Downloading et_xmlfile-1.1.0-py3-none-any.whl (4.7 kB)\n",
      "Installing collected packages: et-xmlfile, openpyxl\n",
      "Successfully installed et-xmlfile-1.1.0 openpyxl-3.1.2\n",
      "\u001b[33mWARNING: Running pip as the 'root' user can result in broken permissions and conflicting behaviour with the system package manager. It is recommended to use a virtual environment instead: https://pip.pypa.io/warnings/venv\u001b[0m\u001b[33m\n",
      "\u001b[0m"
     ]
    }
   ],
   "source": [
    "!pip install openpyxl"
   ]
  },
  {
   "cell_type": "code",
   "execution_count": 3,
   "id": "13e8914d-745a-47d9-8848-88f7ec161121",
   "metadata": {},
   "outputs": [],
   "source": [
    "user='root'\n",
    "password='root'\n",
    "host='influxdb'\n",
    "port=8086\n",
    "dbname='energy_data'\n",
    "protocol='line'\n",
    "client=DataFrameClient(host, port, user, password, dbname)"
   ]
  },
  {
   "cell_type": "code",
   "execution_count": 4,
   "id": "268bbc4e-ea55-4ad0-bf9a-62a4d66904f9",
   "metadata": {},
   "outputs": [],
   "source": [
    "client.create_database(dbname)"
   ]
  },
  {
   "cell_type": "code",
   "execution_count": 5,
   "id": "2197a0e8-8e90-470e-ac72-799b75213953",
   "metadata": {},
   "outputs": [
    {
     "data": {
      "text/plain": [
       "[{'name': '_internal'}, {'name': 'energy_data'}]"
      ]
     },
     "execution_count": 5,
     "metadata": {},
     "output_type": "execute_result"
    }
   ],
   "source": [
    "client.get_list_database()"
   ]
  },
  {
   "cell_type": "code",
   "execution_count": 6,
   "id": "4867af34-63d7-49fb-aea3-63625c30b57d",
   "metadata": {},
   "outputs": [],
   "source": [
    "client.drop_database('consup_data')"
   ]
  },
  {
   "cell_type": "code",
   "execution_count": 7,
   "id": "fa458e6c-4b06-47be-863c-1936966f936a",
   "metadata": {},
   "outputs": [
    {
     "data": {
      "text/plain": [
       "[{'name': '_internal'}, {'name': 'energy_data'}]"
      ]
     },
     "execution_count": 7,
     "metadata": {},
     "output_type": "execute_result"
    }
   ],
   "source": [
    "client.get_list_database()"
   ]
  },
  {
   "cell_type": "code",
   "execution_count": 20,
   "id": "aa316973-2ccb-45ac-ba92-009f143c7bb9",
   "metadata": {},
   "outputs": [],
   "source": [
    "df=pd.read_excel('energy_Dataset.xlsx')"
   ]
  },
  {
   "cell_type": "code",
   "execution_count": 21,
   "id": "b4b59ed6-c976-4d54-9f60-f0240165f5d7",
   "metadata": {},
   "outputs": [
    {
     "data": {
      "text/html": [
       "<div>\n",
       "<style scoped>\n",
       "    .dataframe tbody tr th:only-of-type {\n",
       "        vertical-align: middle;\n",
       "    }\n",
       "\n",
       "    .dataframe tbody tr th {\n",
       "        vertical-align: top;\n",
       "    }\n",
       "\n",
       "    .dataframe thead th {\n",
       "        text-align: right;\n",
       "    }\n",
       "</style>\n",
       "<table border=\"1\" class=\"dataframe\">\n",
       "  <thead>\n",
       "    <tr style=\"text-align: right;\">\n",
       "      <th></th>\n",
       "      <th>Data</th>\n",
       "      <th>Consum</th>\n",
       "      <th>Productie</th>\n",
       "      <th>Nuclear</th>\n",
       "      <th>Eolian</th>\n",
       "      <th>Hidro</th>\n",
       "      <th>Hidrocarburi</th>\n",
       "      <th>Carbune</th>\n",
       "      <th>Fotovolt</th>\n",
       "      <th>Biomasa</th>\n",
       "      <th>Sold</th>\n",
       "    </tr>\n",
       "  </thead>\n",
       "  <tbody>\n",
       "    <tr>\n",
       "      <th>0</th>\n",
       "      <td>2023-07-30 10:59:17</td>\n",
       "      <td>4741</td>\n",
       "      <td>5196</td>\n",
       "      <td>1363</td>\n",
       "      <td>122</td>\n",
       "      <td>1417</td>\n",
       "      <td>916</td>\n",
       "      <td>662</td>\n",
       "      <td>685</td>\n",
       "      <td>32</td>\n",
       "      <td>-455</td>\n",
       "    </tr>\n",
       "    <tr>\n",
       "      <th>1</th>\n",
       "      <td>2023-07-30 10:56:17</td>\n",
       "      <td>4748</td>\n",
       "      <td>5159</td>\n",
       "      <td>1364</td>\n",
       "      <td>119</td>\n",
       "      <td>1399</td>\n",
       "      <td>905</td>\n",
       "      <td>664</td>\n",
       "      <td>677</td>\n",
       "      <td>32</td>\n",
       "      <td>-412</td>\n",
       "    </tr>\n",
       "    <tr>\n",
       "      <th>2</th>\n",
       "      <td>2023-07-30 10:46:19</td>\n",
       "      <td>4755</td>\n",
       "      <td>5172</td>\n",
       "      <td>1362</td>\n",
       "      <td>124</td>\n",
       "      <td>1435</td>\n",
       "      <td>898</td>\n",
       "      <td>663</td>\n",
       "      <td>657</td>\n",
       "      <td>32</td>\n",
       "      <td>-416</td>\n",
       "    </tr>\n",
       "    <tr>\n",
       "      <th>3</th>\n",
       "      <td>2023-07-30 10:38:27</td>\n",
       "      <td>4759</td>\n",
       "      <td>5244</td>\n",
       "      <td>1364</td>\n",
       "      <td>120</td>\n",
       "      <td>1477</td>\n",
       "      <td>933</td>\n",
       "      <td>685</td>\n",
       "      <td>634</td>\n",
       "      <td>32</td>\n",
       "      <td>-485</td>\n",
       "    </tr>\n",
       "    <tr>\n",
       "      <th>4</th>\n",
       "      <td>2023-07-30 10:29:36</td>\n",
       "      <td>4728</td>\n",
       "      <td>5297</td>\n",
       "      <td>1364</td>\n",
       "      <td>114</td>\n",
       "      <td>1487</td>\n",
       "      <td>937</td>\n",
       "      <td>738</td>\n",
       "      <td>628</td>\n",
       "      <td>31</td>\n",
       "      <td>-569</td>\n",
       "    </tr>\n",
       "    <tr>\n",
       "      <th>...</th>\n",
       "      <td>...</td>\n",
       "      <td>...</td>\n",
       "      <td>...</td>\n",
       "      <td>...</td>\n",
       "      <td>...</td>\n",
       "      <td>...</td>\n",
       "      <td>...</td>\n",
       "      <td>...</td>\n",
       "      <td>...</td>\n",
       "      <td>...</td>\n",
       "      <td>...</td>\n",
       "    </tr>\n",
       "    <tr>\n",
       "      <th>458</th>\n",
       "      <td>2023-07-28 00:29:35</td>\n",
       "      <td>5393</td>\n",
       "      <td>6305</td>\n",
       "      <td>1357</td>\n",
       "      <td>985</td>\n",
       "      <td>1622</td>\n",
       "      <td>1287</td>\n",
       "      <td>1021</td>\n",
       "      <td>0</td>\n",
       "      <td>33</td>\n",
       "      <td>-913</td>\n",
       "    </tr>\n",
       "    <tr>\n",
       "      <th>459</th>\n",
       "      <td>2023-07-28 00:27:37</td>\n",
       "      <td>5390</td>\n",
       "      <td>6330</td>\n",
       "      <td>1358</td>\n",
       "      <td>1003</td>\n",
       "      <td>1620</td>\n",
       "      <td>1291</td>\n",
       "      <td>1025</td>\n",
       "      <td>0</td>\n",
       "      <td>34</td>\n",
       "      <td>-940</td>\n",
       "    </tr>\n",
       "    <tr>\n",
       "      <th>460</th>\n",
       "      <td>2023-07-28 00:18:46</td>\n",
       "      <td>5416</td>\n",
       "      <td>6373</td>\n",
       "      <td>1358</td>\n",
       "      <td>1054</td>\n",
       "      <td>1620</td>\n",
       "      <td>1285</td>\n",
       "      <td>1023</td>\n",
       "      <td>0</td>\n",
       "      <td>34</td>\n",
       "      <td>-957</td>\n",
       "    </tr>\n",
       "    <tr>\n",
       "      <th>461</th>\n",
       "      <td>2023-07-28 00:08:17</td>\n",
       "      <td>5502</td>\n",
       "      <td>6464</td>\n",
       "      <td>1355</td>\n",
       "      <td>1063</td>\n",
       "      <td>1719</td>\n",
       "      <td>1286</td>\n",
       "      <td>1008</td>\n",
       "      <td>0</td>\n",
       "      <td>34</td>\n",
       "      <td>-962</td>\n",
       "    </tr>\n",
       "    <tr>\n",
       "      <th>462</th>\n",
       "      <td>2023-07-28 00:00:17</td>\n",
       "      <td>5500</td>\n",
       "      <td>6378</td>\n",
       "      <td>1357</td>\n",
       "      <td>1088</td>\n",
       "      <td>1658</td>\n",
       "      <td>1286</td>\n",
       "      <td>956</td>\n",
       "      <td>0</td>\n",
       "      <td>34</td>\n",
       "      <td>-878</td>\n",
       "    </tr>\n",
       "  </tbody>\n",
       "</table>\n",
       "<p>463 rows × 11 columns</p>\n",
       "</div>"
      ],
      "text/plain": [
       "                   Data  Consum  Productie  Nuclear  Eolian  Hidro  \\\n",
       "0   2023-07-30 10:59:17    4741       5196     1363     122   1417   \n",
       "1   2023-07-30 10:56:17    4748       5159     1364     119   1399   \n",
       "2   2023-07-30 10:46:19    4755       5172     1362     124   1435   \n",
       "3   2023-07-30 10:38:27    4759       5244     1364     120   1477   \n",
       "4   2023-07-30 10:29:36    4728       5297     1364     114   1487   \n",
       "..                  ...     ...        ...      ...     ...    ...   \n",
       "458 2023-07-28 00:29:35    5393       6305     1357     985   1622   \n",
       "459 2023-07-28 00:27:37    5390       6330     1358    1003   1620   \n",
       "460 2023-07-28 00:18:46    5416       6373     1358    1054   1620   \n",
       "461 2023-07-28 00:08:17    5502       6464     1355    1063   1719   \n",
       "462 2023-07-28 00:00:17    5500       6378     1357    1088   1658   \n",
       "\n",
       "     Hidrocarburi  Carbune  Fotovolt  Biomasa  Sold  \n",
       "0             916      662       685       32  -455  \n",
       "1             905      664       677       32  -412  \n",
       "2             898      663       657       32  -416  \n",
       "3             933      685       634       32  -485  \n",
       "4             937      738       628       31  -569  \n",
       "..            ...      ...       ...      ...   ...  \n",
       "458          1287     1021         0       33  -913  \n",
       "459          1291     1025         0       34  -940  \n",
       "460          1285     1023         0       34  -957  \n",
       "461          1286     1008         0       34  -962  \n",
       "462          1286      956         0       34  -878  \n",
       "\n",
       "[463 rows x 11 columns]"
      ]
     },
     "execution_count": 21,
     "metadata": {},
     "output_type": "execute_result"
    }
   ],
   "source": [
    "df"
   ]
  },
  {
   "cell_type": "code",
   "execution_count": 22,
   "id": "0df0e2f8-d01c-4457-832f-62f56d8dac98",
   "metadata": {},
   "outputs": [
    {
     "data": {
      "text/plain": [
       "Index(['Data', 'Consum', 'Productie', 'Nuclear', 'Eolian', 'Hidro',\n",
       "       'Hidrocarburi', 'Carbune', 'Fotovolt', 'Biomasa', 'Sold'],\n",
       "      dtype='object')"
      ]
     },
     "execution_count": 22,
     "metadata": {},
     "output_type": "execute_result"
    }
   ],
   "source": [
    "df.columns"
   ]
  },
  {
   "cell_type": "code",
   "execution_count": 23,
   "id": "78751873-a305-4a78-90a8-d9b453cd5082",
   "metadata": {},
   "outputs": [],
   "source": [
    "field_columns=['Consum','Productie','Nuclear','Eolian',\n",
    "       'Hidro','Hidrocarburi','Carbune','Fotovolt',\n",
    "       'Biomasa','Sold']"
   ]
  },
  {
   "cell_type": "code",
   "execution_count": 24,
   "id": "c688d5d7-f1d9-4fbd-83ef-b1713d2a143a",
   "metadata": {},
   "outputs": [],
   "source": [
    " tag_columns=['Data']"
   ]
  },
  {
   "cell_type": "code",
   "execution_count": 25,
   "id": "cdbb0f7a-f4c6-42ba-9c35-77e21d71ac56",
   "metadata": {},
   "outputs": [],
   "source": [
    "df2=df[tag_columns+field_columns]"
   ]
  },
  {
   "cell_type": "code",
   "execution_count": 26,
   "id": "b6f134ab-1de1-4412-b052-5102e23518b6",
   "metadata": {},
   "outputs": [],
   "source": [
    "df2.index=pd.to_datetime(df['Data'].astype(str))"
   ]
  },
  {
   "cell_type": "code",
   "execution_count": 27,
   "id": "6af2b88b-7fa1-4fd2-9a33-de5e8093ec70",
   "metadata": {},
   "outputs": [],
   "source": [
    "#df2['Data'] = pd.to_datetime(df['Data'], unit='s')"
   ]
  },
  {
   "cell_type": "code",
   "execution_count": 28,
   "id": "181d1f0e-96bd-44b2-9aa1-8d4cd5be23c1",
   "metadata": {},
   "outputs": [],
   "source": [
    "data_points=df2.to_dict('records')"
   ]
  },
  {
   "cell_type": "code",
   "execution_count": 29,
   "id": "ff2b8358-f91c-4934-bee2-09f3c2c77cc7",
   "metadata": {},
   "outputs": [
    {
     "data": {
      "text/plain": [
       "True"
      ]
     },
     "execution_count": 29,
     "metadata": {},
     "output_type": "execute_result"
    }
   ],
   "source": [
    "client.write_points(df2, 'records', protocol=protocol,\n",
    "                        field_columns=field_columns,\n",
    "                        tag_columns=tag_columns)"
   ]
  },
  {
   "cell_type": "code",
   "execution_count": null,
   "id": "b185d241-95dc-45c3-b1c9-3560af420695",
   "metadata": {},
   "outputs": [],
   "source": []
  },
  {
   "cell_type": "code",
   "execution_count": null,
   "id": "259de368-6d0b-4ba7-a45d-2718f5560c7c",
   "metadata": {},
   "outputs": [],
   "source": []
  }
 ],
 "metadata": {
  "kernelspec": {
   "display_name": "Python 3 (ipykernel)",
   "language": "python",
   "name": "python3"
  },
  "language_info": {
   "codemirror_mode": {
    "name": "ipython",
    "version": 3
   },
   "file_extension": ".py",
   "mimetype": "text/x-python",
   "name": "python",
   "nbconvert_exporter": "python",
   "pygments_lexer": "ipython3",
   "version": "3.11.3"
  }
 },
 "nbformat": 4,
 "nbformat_minor": 5
}
